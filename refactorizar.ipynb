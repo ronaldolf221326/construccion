{
  "nbformat": 4,
  "nbformat_minor": 0,
  "metadata": {
    "colab": {
      "name": "Refactorizar",
      "provenance": [],
      "collapsed_sections": []
    },
    "kernelspec": {
      "name": "python3",
      "display_name": "Python 3"
    },
    "language_info": {
      "name": "python"
    }
  },
  "cells": [
    {
      "cell_type": "code",
      "execution_count": null,
      "metadata": {
        "id": "runHhFolwnqG"
      },
      "outputs": [],
      "source": [
        "class persona(): # clase persona\n",
        "    def __init__(self,nombre,edad): # se inicializa con nombre y edad\n",
        "        self.nombre=nombre\n",
        "        self.edad=edad\n",
        "\n",
        "    "
      ]
    },
    {
      "cell_type": "code",
      "source": [
        "\n",
        "maikel=persona(\"MAikel Leyva\", 30)\n"
      ],
      "metadata": {
        "id": "NnRKdq2pwsr2"
      },
      "execution_count": null,
      "outputs": []
    },
    {
      "cell_type": "code",
      "source": [
        "# refactorice el siguente codigo \n",
        "# medinate expresiones aumentadas https://zephyrnet.com/es/10-formas-de-refactorizar-su-c%C3%B3digo-Python/\n",
        "count=0\n",
        "for i in  range(20):\n",
        "  count=count+1\n",
        "print(count)\n"
      ],
      "metadata": {
        "colab": {
          "base_uri": "https://localhost:8080/"
        },
        "id": "zMSp9qFL9M60",
        "outputId": "224c3815-52dc-4e67-acb8-a2fa0964860d"
      },
      "execution_count": null,
      "outputs": [
        {
          "output_type": "stream",
          "name": "stdout",
          "text": [
            "20\n"
          ]
        }
      ]
    }
  ]
}